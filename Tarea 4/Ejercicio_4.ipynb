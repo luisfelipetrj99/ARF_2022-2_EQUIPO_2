{
  "nbformat": 4,
  "nbformat_minor": 0,
  "metadata": {
    "kernelspec": {
      "display_name": "R",
      "language": "R",
      "name": "ir"
    },
    "language_info": {
      "codemirror_mode": "r",
      "file_extension": ".r",
      "mimetype": "text/x-r-source",
      "name": "R",
      "pygments_lexer": "r",
      "version": "3.3.1"
    },
    "colab": {
      "name": "Ejercicio 4",
      "provenance": [],
      "collapsed_sections": [],
      "include_colab_link": true
    },
    "accelerator": "GPU"
  },
  "cells": [
    {
      "cell_type": "markdown",
      "metadata": {
        "id": "view-in-github",
        "colab_type": "text"
      },
      "source": [
        "<a href=\"https://colab.research.google.com/github/luisfelipetrj99/ARF_2022-2_EQUIPO_2/blob/main/Tarea%204/Ejercicio_4.ipynb\" target=\"_parent\"><img src=\"https://colab.research.google.com/assets/colab-badge.svg\" alt=\"Open In Colab\"/></a>"
      ]
    },
    {
      "cell_type": "markdown",
      "metadata": {
        "id": "dPEF1ujr7wvM"
      },
      "source": [
        "Paso de carga de librerías en R de todas las que se utilizarán"
      ]
    },
    {
      "cell_type": "code",
      "metadata": {
        "id": "57AsDOlcRWL9",
        "outputId": "8c52f517-b95b-4338-c0ea-f6507740bca7",
        "colab": {
          "base_uri": "https://localhost:8080/",
          "height": 474
        }
      },
      "source": [
        "install.packages(\"quantmod\")\n",
        "install.packages(\"curl\")\n",
        "install.packages(\"data.table\")\n",
        "install.packages(\"RCurl\")\n",
        "install.packages(\"bitops\")\n",
        "install.packages(\"setInternet2\")\n",
        "install.packages(\"rootSolve\")\n",
        "install.packages(\"xml2\")\n",
        "library(rootSolve)\n",
        "library(quantmod)\n",
        "library(RCurl)\n",
        "library(data.table)\n",
        "library(xml2)\n",
        "require(jsonlite) #para el getQuotes\n"
      ],
      "execution_count": null,
      "outputs": [
        {
          "output_type": "stream",
          "text": [
            "Installing package into ‘/usr/local/lib/R/site-library’\n",
            "(as ‘lib’ is unspecified)\n",
            "\n",
            "Installing package into ‘/usr/local/lib/R/site-library’\n",
            "(as ‘lib’ is unspecified)\n",
            "\n",
            "Installing package into ‘/usr/local/lib/R/site-library’\n",
            "(as ‘lib’ is unspecified)\n",
            "\n",
            "Installing package into ‘/usr/local/lib/R/site-library’\n",
            "(as ‘lib’ is unspecified)\n",
            "\n",
            "Installing package into ‘/usr/local/lib/R/site-library’\n",
            "(as ‘lib’ is unspecified)\n",
            "\n",
            "Installing package into ‘/usr/local/lib/R/site-library’\n",
            "(as ‘lib’ is unspecified)\n",
            "\n",
            "Warning message:\n",
            "“package ‘setInternet2’ is not available (for R version 3.6.3)”\n",
            "Installing package into ‘/usr/local/lib/R/site-library’\n",
            "(as ‘lib’ is unspecified)\n",
            "\n",
            "Installing package into ‘/usr/local/lib/R/site-library’\n",
            "(as ‘lib’ is unspecified)\n",
            "\n"
          ],
          "name": "stderr"
        }
      ]
    },
    {
      "cell_type": "code",
      "metadata": {
        "id": "hmhB2TtvLFBw",
        "outputId": "7f0ee10a-2186-4e2d-d605-4a792267fd6c",
        "colab": {
          "base_uri": "https://localhost:8080/",
          "height": 229
        }
      },
      "source": [
        "Symbols<-c  (\"WALMEX.MX\")#tienen que ir en orden alfabético\n",
        "length(Symbols)\n",
        "\n",
        "\n",
        "start_date=Sys.Date()-3660 #fecha inicial\n",
        "\n",
        "#Creación del objeto para guardar los datos\n",
        "dataEnv<-new.env()\n",
        "\n",
        "#obtener los datos\n",
        "getSymbols.yahoo(Symbols,env=dataEnv,from=start_date)\n",
        "\n",
        "\n",
        "#limpiarlos, alinearnos y quedarnos con el precio de cierre \n",
        "\n",
        "\n",
        "\n",
        "#muestra de datos\n",
        "#Nos quedamos con los precios\n",
        "stock_prices = na.omit(dataEnv$`WALMEX.MX`)\n",
        "stock_prices=stock_prices[,4] #Close\n",
        "tail(stock_prices[,])\n"
      ],
      "execution_count": null,
      "outputs": [
        {
          "output_type": "display_data",
          "data": {
            "text/plain": [
              "[1] 1"
            ],
            "text/latex": "1",
            "text/markdown": "1",
            "text/html": [
              "1"
            ]
          },
          "metadata": {
            "tags": []
          }
        },
        {
          "output_type": "stream",
          "text": [
            "Warning message:\n",
            "“WALMEX.MX contains missing values. Some functions will not work if objects contain missing values in the middle of the series. Consider using na.omit(), na.approx(), na.fill(), etc to remove or replace them.”\n"
          ],
          "name": "stderr"
        },
        {
          "output_type": "display_data",
          "data": {
            "text/plain": [
              "[1] \"WALMEX.MX\""
            ],
            "text/latex": "'WALMEX.MX'",
            "text/markdown": "'WALMEX.MX'",
            "text/html": [
              "'WALMEX.MX'"
            ]
          },
          "metadata": {
            "tags": []
          }
        },
        {
          "output_type": "display_data",
          "data": {
            "text/plain": [
              "           WALMEX.MX.Close\n",
              "2020-05-18           58.48\n",
              "2020-05-19           56.42\n",
              "2020-05-20           56.33\n",
              "2020-05-21           55.84\n",
              "2020-05-22           55.81\n",
              "2020-05-25           55.68"
            ]
          },
          "metadata": {
            "tags": []
          }
        }
      ]
    },
    {
      "cell_type": "markdown",
      "metadata": {
        "id": "IjUGLFfeA3Ty"
      },
      "source": [
        "Se deja el código de \"webscrapping\" hay que arreglarlo"
      ]
    },
    {
      "cell_type": "code",
      "metadata": {
        "id": "hQ_Vf4r2LMD-",
        "outputId": "d24d75cd-1175-4df9-c96a-86b9262905fb",
        "colab": {
          "base_uri": "https://localhost:8080/",
          "height": 112
        }
      },
      "source": [
        "\n",
        "#PARA CARGAR EL NÚMERO DE ACCIONES EN VENTA\n",
        "\n",
        "getQuote <- function(ticks) {\n",
        "  qRoot <- \"https://query1.finance.yahoo.com/v7/finance/quote?fields=symbol,longName,regularMarketPrice,regularMarketChange,regularMarketTime,sharesOutstanding,bookValue&formatted=false&symbols=\"\n",
        "  z <- fromJSON(paste(qRoot, paste(ticks, collapse=\",\"), sep=\"\"))\n",
        "  z <- z$quoteResponse$result[,c(\"symbol\", \"regularMarketTime\", \"regularMarketPrice\", \"regularMarketChange\", \"longName\", \"sharesOutstanding\", \"bookValue\" )]\n",
        "  row.names(z) <- z$symbol\n",
        "  z$symbol <- NULL\n",
        "  names(z) <- c(\"Time\", \"Price\", \"Change\", \"Name\", \"Numeroacciones\", \"valorlibros\")\n",
        "  z$Time <- as.POSIXct(z$Time, origin = '1970-01-01 00:00:00')\n",
        "  return(z)\n",
        "}\n",
        "\n",
        "\n",
        "ticks=Symbols\n",
        "\n",
        "stqt=getQuote(Symbols)\n",
        "\n",
        "stqt\n",
        "\n",
        "#PARA CARGAR LOS ESTADOS FINANCIEROS Y FLUJOS DE EFECTIVO\n",
        "url <- \"https://finance.yahoo.com/quote/\"\n",
        "scrapy_stocks <- function(stock){\n",
        "  if (\"rvest\" %in% installed.packages()) {\n",
        "    library(rvest)\n",
        "  }else{\n",
        "    install.packages(\"rvest\")\n",
        "    library(rvest)\n",
        "  }\n",
        "  for (i in 1:length(stock)) {\n",
        "    tryCatch(\n",
        "      {\n",
        "        # Income Statement\n",
        "        # financial <- paste0(url,stock[i],\"/financials?p=\",stock[i])\n",
        "        # wahis.session <- html_session(financial)                                \n",
        "        # p <-    wahis.session %>% \n",
        "        #   html_nodes(xpath = '//*[@id=\"Col1-1-Financials-Proxy\"]/section/div[4]/div[1]/div[1]/div[2]') %>%\n",
        "        #   .[[1]] %>% html_children() %>% html_nodes(\"div\")\n",
        "        # suppressWarnings(Values <- p[sapply(p, function(x){length(x %>% html_attrs())}) == 3] %>% \n",
        "        #                    html_text() %>% gsub(pattern = \",\",replacement = \"\") %>% \n",
        "        #                    gsub(pattern = \"-\",replacement = 0) %>% as.numeric()) \n",
        "        # Headers <- wahis.session %>% \n",
        "        #   html_nodes(xpath = '//*[@id=\"Col1-1-Financials-Proxy\"]/section/div[4]/div[1]/div[1]') %>% \n",
        "        #   .[[1]] %>% html_nodes(\"span\") %>% html_text() %>% head()\n",
        "        # Concepts <- p[sapply(p, function(x){length(x %>% html_attrs())}) == 2] %>% html_text() %>% .[seq(2,88,4)]\n",
        "        # IS <- data.frame(Breakdown = Concepts[-c(4,16,19)], matrix(Values[!is.na(Values)], ncol = 5, byrow = T))\n",
        "        # names(IS) <- Headers\n",
        "        # temp1 <- IS\n",
        "        \n",
        "        # Balance Sheet\n",
        "        bsheet <- paste0(url,stock[i],\"/balance-sheet?p=\",stock[i])\n",
        "        wahis.session <- html_session(bsheet)\n",
        "        p <-    wahis.session %>% \n",
        "          html_nodes(xpath = '//*[@id=\"Col1-1-Financials-Proxy\"]/section/div[4]/div[1]/div[1]/div[2]') %>%\n",
        "          .[[1]] %>% html_children() %>% html_nodes(\"div\")\n",
        "        suppressWarnings(Values <- p[sapply(p, function(x){length(x %>% html_attrs())}) == 3] %>% \n",
        "                           html_text() %>% gsub(pattern = \",\",replacement = \"\") %>% gsub(pattern = \"-\",replacement = 0) %>% as.numeric()) \n",
        "        Headers <- wahis.session %>% \n",
        "          html_nodes(xpath = '//*[@id=\"Col1-1-Financials-Proxy\"]/section/div[4]/div[1]/div[1]') %>% \n",
        "          .[[1]] %>% html_nodes(\"span\") %>% html_text() %>% head(5)\n",
        "        Concepts <- p[sapply(p, function(x){length(x %>% html_attrs())}) == 2] %>% html_text() %>% .[seq(2,175,4)]\n",
        "        BS <- data.frame(Breakdown = Concepts[-c(1:3,11,12,22:24,32,39)], matrix(Values[!is.na(Values)], ncol = 4, byrow = T))\n",
        "        names(BS) <- Headers\n",
        "        temp2 <- BS\n",
        "        \n",
        "        # Cash flows\n",
        "        # cash_f <- paste0(url,stock[i],\"/cash-flow?p=\",stock[i])\n",
        "        # wahis.session <- html_session(cash_f)\n",
        "        # p <-    wahis.session %>% \n",
        "        #   html_nodes(xpath = '//*[@id=\"Col1-1-Financials-Proxy\"]/section/div[4]/div[1]/div[1]/div[2]') %>%\n",
        "        #   .[[1]] %>% html_children() %>% html_nodes(\"div\")\n",
        "        # suppressWarnings(Values <- p[sapply(p, function(x){length(x %>% html_attrs())}) == 3] %>% \n",
        "        #                    html_text() %>% gsub(pattern = \",\",replacement = \"\") %>% gsub(pattern = \"-\",replacement = 0) %>% as.numeric())\n",
        "        # Headers <- wahis.session %>% \n",
        "        #   html_nodes(xpath = '//*[@id=\"Col1-1-Financials-Proxy\"]/section/div[4]/div[1]/div[1]') %>% \n",
        "        #   .[[1]] %>% html_nodes(\"span\") %>% html_text() %>% head()\n",
        "        # Concepts <- p[sapply(p, function(x){length(x %>% html_attrs())}) == 2] %>% html_text() %>% .[seq(2,133,4)]\n",
        "        # CF <- data.frame(Breakdown = Concepts[-c(1,13,20,30)], matrix(Values[!is.na(Values)], ncol = 5, byrow = T))\n",
        "        # names(CF) <- Headers\n",
        "        # temp3 <- CF\n",
        "        \n",
        "        # Shares Outstanding\n",
        "        stock_url <- paste0(url,stock[i],\"/key-statistics?p=\",stock[i])\n",
        "        SO <- html_session(stock_url) %>%\n",
        "          html_nodes(xpath = '//*[@id=\"Col1-0-KeyStatistics-Proxy\"]/section/div[2]/div[2]/div/div[2]/div/table/tbody/tr[3]/td[2]') %>% \n",
        "          html_text() %>% gsub(pattern = \"[A-z]\",replacement = \"\") %>% as.numeric()\n",
        "        temp4 <- SO\n",
        "        \n",
        "        assign(paste0(stock[i],'.f'),value = list(IS = temp1,BS = temp2,CF = temp3, SO = temp4),envir = parent.frame())\n",
        "        \n",
        "      },\n",
        "      error = function(cond){\n",
        "        message(stock[i], \"Give error \",cond)\n",
        "      }\n",
        "    )\n",
        "  }\n",
        "}\n",
        "\n",
        "#stock=Symbols\n",
        "#scrapy_stocks(Symbols) \n",
        "#attach(WALMEX.MX.f)\n",
        "#WALMEX.MX.f$BS\n",
        "#WALMEX.MX.f$IS\n",
        "#WALMEX.MX.f$CF\n",
        "#BS\n",
        "\n",
        "stqt$Numeroacciones\n"
      ],
      "execution_count": null,
      "outputs": [
        {
          "output_type": "display_data",
          "data": {
            "text/plain": [
              "          Time                Price Change    \n",
              "WALMEX.MX 2020-05-25 19:59:51 55.68 -0.1300011\n",
              "          Name                               Numeroacciones valorlibros\n",
              "WALMEX.MX Wal-Mart de Mexico, S.A.B. de C.V. 17461399552    9.327      "
            ],
            "text/latex": "A data.frame: 1 × 6\n\\begin{tabular}{r|llllll}\n  & Time & Price & Change & Name & Numeroacciones & valorlibros\\\\\n  & <dttm> & <dbl> & <dbl> & <chr> & <dbl> & <dbl>\\\\\n\\hline\n\tWALMEX.MX & 2020-05-25 19:59:51 & 55.68 & -0.1300011 & Wal-Mart de Mexico, S.A.B. de C.V. & 17461399552 & 9.327\\\\\n\\end{tabular}\n",
            "text/markdown": "\nA data.frame: 1 × 6\n\n| <!--/--> | Time &lt;dttm&gt; | Price &lt;dbl&gt; | Change &lt;dbl&gt; | Name &lt;chr&gt; | Numeroacciones &lt;dbl&gt; | valorlibros &lt;dbl&gt; |\n|---|---|---|---|---|---|---|\n| WALMEX.MX | 2020-05-25 19:59:51 | 55.68 | -0.1300011 | Wal-Mart de Mexico, S.A.B. de C.V. | 17461399552 | 9.327 |\n\n",
            "text/html": [
              "<table>\n",
              "<caption>A data.frame: 1 × 6</caption>\n",
              "<thead>\n",
              "\t<tr><th></th><th scope=col>Time</th><th scope=col>Price</th><th scope=col>Change</th><th scope=col>Name</th><th scope=col>Numeroacciones</th><th scope=col>valorlibros</th></tr>\n",
              "\t<tr><th></th><th scope=col>&lt;dttm&gt;</th><th scope=col>&lt;dbl&gt;</th><th scope=col>&lt;dbl&gt;</th><th scope=col>&lt;chr&gt;</th><th scope=col>&lt;dbl&gt;</th><th scope=col>&lt;dbl&gt;</th></tr>\n",
              "</thead>\n",
              "<tbody>\n",
              "\t<tr><th scope=row>WALMEX.MX</th><td>2020-05-25 19:59:51</td><td>55.68</td><td>-0.1300011</td><td>Wal-Mart de Mexico, S.A.B. de C.V.</td><td>17461399552</td><td>9.327</td></tr>\n",
              "</tbody>\n",
              "</table>\n"
            ]
          },
          "metadata": {
            "tags": []
          }
        },
        {
          "output_type": "display_data",
          "data": {
            "text/plain": [
              "[1] 17461399552"
            ],
            "text/latex": "17461399552",
            "text/markdown": "17461399552",
            "text/html": [
              "17461399552"
            ]
          },
          "metadata": {
            "tags": []
          }
        }
      ]
    },
    {
      "cell_type": "code",
      "metadata": {
        "id": "65qkZOkVjBR1",
        "outputId": "f8d96b7e-c6d5-4413-90ae-f163c29a07f6",
        "colab": {
          "base_uri": "https://localhost:8080/",
          "height": 300
        }
      },
      "source": [
        "TSE <- \"Total stockholders' equity\"\n",
        "TL <- \"Total Liabilities\"\n",
        "# dt <- colnames(BS)[2] # ÚLTIMA FECHA DISPONIBLE\n",
        "\n",
        "dt=\"12/31/2019\"\n",
        "\n",
        "#K_0=BS[33,1]/1000 #Total Stockholder Equity VALOR DE LA EMPRESA\n",
        "#en millones https://finance.yahoo.com/quote/WALMEX.MX/balance-sheet?p=WALMEX.MX\n",
        "#Total stockholders' equity\n",
        "#En millones\n",
        "# K_0=BS[BS$Breakdown==TSE, dt]*1000/1000000\n",
        "K_0=168144767*1000/1000000\n",
        "#nrow(BS)\n",
        "#D_0=BS[24,1]/1000 #Total Liabilities DEUDA ACTUAL\n",
        "#En millones\n",
        "# D_0=BS[BS$Breakdown==TL, dt]*1000/1000000\n",
        "D_0=181027502*1000/1000000\n",
        "\n",
        "#Shares Outstanding (Sexpresa en miles de millones en la página)\n",
        "#En millones\n",
        "Numeroacciones=stqt$Numeroacciones/1000000\n",
        "\n",
        "dt=strptime(dt, \"%m/%d/%Y\")\n",
        "dt=format(dt, \"%Y-%m\")\n",
        "dt\n",
        "#no esta sentencia entonces mi ultima fecha fue tanto \n",
        "n=nrow(stock_prices[paste(\"/\",dt,sep=\"\")]) #NUMERO DE FILAS A ANALIZAR PARA EL ÚLTIMO DATO\n",
        "\n",
        "A_0=stock_prices[paste(\"/\",dt,sep=\"\")][n] #valores actuales\n",
        "print(\"precio actual de la acción\")\n",
        "print(A_0)\n",
        "\n",
        "#A_0=A_0*stqt$Numeroacciones/1000000 #VALOR ACTUAL DE LAS ACCIONES VALOR DE ACCIÓN POR ACCIONES DISPONIBLES\n",
        "A_0=A_0*Numeroacciones #VALOR ACTUAL DE LAS ACCIONES VALOR DE ACCIÓN POR ACCIONES DISPONIBLES\n",
        "print(\"Ratio entre A0 y K0\")\n",
        "A_0/K_0\n",
        "\n",
        "A=stock_prices[paste(\"/\",dt,sep=\"\")]  #VECTOR DE PRECIOS \n",
        "\n",
        "vol_A=sqrt(var(log(as.matrix(A[2:n])/as.matrix(A[1:(n-1)]))))*sqrt(252) #VOLATILIDAD ANUAL\n",
        "\n",
        "#Valor del CETE\n",
        "r=0.0717\n",
        "T=1\n",
        "\n",
        "A_0\n",
        "K_0\n",
        "vol_A\n",
        "D_0\n",
        "r\n",
        "T\n"
      ],
      "execution_count": null,
      "outputs": [
        {
          "output_type": "display_data",
          "data": {
            "text/plain": [
              "[1] \"2019-12\""
            ],
            "text/latex": "'2019-12'",
            "text/markdown": "'2019-12'",
            "text/html": [
              "'2019-12'"
            ]
          },
          "metadata": {
            "tags": []
          }
        },
        {
          "output_type": "stream",
          "text": [
            "[1] \"precio actual de la acción\"\n",
            "           WALMEX.MX.Close\n",
            "2019-12-31           54.18\n",
            "[1] \"Ratio entre A0 y K0\"\n"
          ],
          "name": "stdout"
        },
        {
          "output_type": "display_data",
          "data": {
            "text/plain": [
              "           WALMEX.MX.Close\n",
              "2019-12-31        5.626453"
            ]
          },
          "metadata": {
            "tags": []
          }
        },
        {
          "output_type": "display_data",
          "data": {
            "text/plain": [
              "           WALMEX.MX.Close\n",
              "2019-12-31        946058.6"
            ]
          },
          "metadata": {
            "tags": []
          }
        },
        {
          "output_type": "display_data",
          "data": {
            "text/plain": [
              "[1] 168144.8"
            ],
            "text/latex": "168144.767",
            "text/markdown": "168144.767",
            "text/html": [
              "168144.767"
            ]
          },
          "metadata": {
            "tags": []
          }
        },
        {
          "output_type": "display_data",
          "data": {
            "text/plain": [
              "                WALMEX.MX.Close\n",
              "WALMEX.MX.Close 0.237323       "
            ],
            "text/latex": "A matrix: 1 × 1 of type dbl\n\\begin{tabular}{r|l}\n  & WALMEX.MX.Close\\\\\n\\hline\n\tWALMEX.MX.Close & 0.237323\\\\\n\\end{tabular}\n",
            "text/markdown": "\nA matrix: 1 × 1 of type dbl\n\n| <!--/--> | WALMEX.MX.Close |\n|---|---|\n| WALMEX.MX.Close | 0.237323 |\n\n",
            "text/html": [
              "<table>\n",
              "<caption>A matrix: 1 × 1 of type dbl</caption>\n",
              "<thead>\n",
              "\t<tr><th></th><th scope=col>WALMEX.MX.Close</th></tr>\n",
              "</thead>\n",
              "<tbody>\n",
              "\t<tr><th scope=row>WALMEX.MX.Close</th><td>0.237323</td></tr>\n",
              "</tbody>\n",
              "</table>\n"
            ]
          },
          "metadata": {
            "tags": []
          }
        },
        {
          "output_type": "display_data",
          "data": {
            "text/plain": [
              "[1] 181027.5"
            ],
            "text/latex": "181027.502",
            "text/markdown": "181027.502",
            "text/html": [
              "181027.502"
            ]
          },
          "metadata": {
            "tags": []
          }
        },
        {
          "output_type": "display_data",
          "data": {
            "text/plain": [
              "[1] 0.0717"
            ],
            "text/latex": "0.0717",
            "text/markdown": "0.0717",
            "text/html": [
              "0.0717"
            ]
          },
          "metadata": {
            "tags": []
          }
        },
        {
          "output_type": "display_data",
          "data": {
            "text/plain": [
              "[1] 1"
            ],
            "text/latex": "1",
            "text/markdown": "1",
            "text/html": [
              "1"
            ]
          },
          "metadata": {
            "tags": []
          }
        }
      ]
    },
    {
      "cell_type": "code",
      "metadata": {
        "id": "OfIx_-_BjwhK",
        "outputId": "b7a667b1-7048-4977-dc98-60b32932b430",
        "colab": {
          "base_uri": "https://localhost:8080/",
          "height": 336
        }
      },
      "source": [
        "x=c(D_0,vol_A)\n",
        "\n",
        "#Función para estimar vol_k y D\n",
        "G = function(x) \n",
        "{\n",
        "  vol_k <- x[2]\n",
        "  D <- x[1]\n",
        "  c(A_0-K_0*pnorm((log(K_0/D)+(r+0.5*vol_k^2)*T)/(vol_k*sqrt(T)))+D*exp(-r*T)*pnorm((log(K_0/D)+(r-0.5*vol_k^2)*T)/(vol_k*sqrt(T))),\n",
        "  A_0*vol_A-vol_k*K_0*pnorm((log(K_0/D)+(r+0.5*vol_k^2)*T)/(vol_k*sqrt(T))) )\n",
        "}\n",
        "\n",
        "#K_0=164370\n",
        "\n",
        "ss=multiroot(G,x,positive = TRUE) #RESOLVER EL SISTEMA.\n",
        "\n",
        "print(\"Deuda\")\n",
        "D=ss$root[1]\n",
        "D\n",
        "print(\"Vol k\")\n",
        "vol_k=ss$root[2]\n",
        "vol_k\n",
        "print(\"D_T/D_0\")\n",
        "ss$root[1]/D_0\n",
        "print(\"Vol_A/Vol_K\")\n",
        "vol_A/ss$root[2]\n",
        "print(\"evaluacion en raíces\")\n",
        "G(c(D,vol_k))\n",
        "\n",
        "#Probabilidad de incumplimiento\n",
        "PD_merton=1-pnorm((log(K_0/D)+(r+0.5*vol_k^2)*T)/(vol_k*sqrt(T)))\n",
        "print(\"PD MERTON\")\n",
        "PD_merton\n"
      ],
      "execution_count": null,
      "outputs": [
        {
          "output_type": "stream",
          "text": [
            "Warning message in stode(y, times, func, parms = parms, ...):\n",
            "“steady-state not reached”\n"
          ],
          "name": "stderr"
        },
        {
          "output_type": "stream",
          "text": [
            "[1] \"Deuda\"\n"
          ],
          "name": "stdout"
        },
        {
          "output_type": "display_data",
          "data": {
            "text/plain": [
              "[1] 0"
            ],
            "text/latex": "0",
            "text/markdown": "0",
            "text/html": [
              "0"
            ]
          },
          "metadata": {
            "tags": []
          }
        },
        {
          "output_type": "stream",
          "text": [
            "[1] \"Vol k\"\n"
          ],
          "name": "stdout"
        },
        {
          "output_type": "display_data",
          "data": {
            "text/plain": [
              "[1] 1.335286"
            ],
            "text/latex": "1.3352864681804",
            "text/markdown": "1.3352864681804",
            "text/html": [
              "1.3352864681804"
            ]
          },
          "metadata": {
            "tags": []
          }
        },
        {
          "output_type": "stream",
          "text": [
            "[1] \"D_T/D_0\"\n"
          ],
          "name": "stdout"
        },
        {
          "output_type": "display_data",
          "data": {
            "text/plain": [
              "[1] 0"
            ],
            "text/latex": "0",
            "text/markdown": "0",
            "text/html": [
              "0"
            ]
          },
          "metadata": {
            "tags": []
          }
        },
        {
          "output_type": "stream",
          "text": [
            "[1] \"Vol_A/Vol_K\"\n"
          ],
          "name": "stdout"
        },
        {
          "output_type": "display_data",
          "data": {
            "text/plain": [
              "                WALMEX.MX.Close\n",
              "WALMEX.MX.Close 0.1777319      "
            ],
            "text/latex": "A matrix: 1 × 1 of type dbl\n\\begin{tabular}{r|l}\n  & WALMEX.MX.Close\\\\\n\\hline\n\tWALMEX.MX.Close & 0.1777319\\\\\n\\end{tabular}\n",
            "text/markdown": "\nA matrix: 1 × 1 of type dbl\n\n| <!--/--> | WALMEX.MX.Close |\n|---|---|\n| WALMEX.MX.Close | 0.1777319 |\n\n",
            "text/html": [
              "<table>\n",
              "<caption>A matrix: 1 × 1 of type dbl</caption>\n",
              "<thead>\n",
              "\t<tr><th></th><th scope=col>WALMEX.MX.Close</th></tr>\n",
              "</thead>\n",
              "<tbody>\n",
              "\t<tr><th scope=row>WALMEX.MX.Close</th><td>0.1777319</td></tr>\n",
              "</tbody>\n",
              "</table>\n"
            ]
          },
          "metadata": {
            "tags": []
          }
        },
        {
          "output_type": "stream",
          "text": [
            "[1] \"evaluacion en raíces\"\n"
          ],
          "name": "stdout"
        },
        {
          "output_type": "display_data",
          "data": {
            "text/plain": [
              "           WALMEX.MX.Close\n",
              "2019-12-31        777913.9\n",
              "2019-12-31             0.0"
            ]
          },
          "metadata": {
            "tags": []
          }
        },
        {
          "output_type": "stream",
          "text": [
            "[1] \"PD MERTON\"\n"
          ],
          "name": "stdout"
        },
        {
          "output_type": "display_data",
          "data": {
            "text/plain": [
              "[1] 0"
            ],
            "text/latex": "0",
            "text/markdown": "0",
            "text/html": [
              "0"
            ]
          },
          "metadata": {
            "tags": []
          }
        }
      ]
    },
    {
      "cell_type": "code",
      "metadata": {
        "id": "Ti2-oe_yF6Rd",
        "outputId": "72b388e6-8790-48d5-df02-ddcd6b99c414",
        "colab": {
          "base_uri": "https://localhost:8080/",
          "height": 394
        }
      },
      "source": [
        "#Sólo estimar la volatilidad dada la deuda\n",
        "#Probabilidad de Incumplimiento\n",
        "\n",
        "Vk = function(x) \n",
        "{\n",
        "  vol_k <- x\n",
        "  ((vol_k/vol_A)*(K_0/A_0))-pnorm((log(K_0/D)+(r+0.5*vol_k^2)*T)/(vol_k*sqrt(T)))\n",
        "}\n",
        "\n",
        "#Definir una Deuda\n",
        "D=D_0\n",
        "x=vol_A #semilla de la vol_k\n",
        "ss=multiroot(Vk,x,positive = TRUE) #RESOLVER EL SISTEMA.\n",
        "print(\"vol_k\")\n",
        "vol_k=ss$root\n",
        "vol_k\n",
        "print(\"Ratio vol_k/vol_A\")\n",
        "ss$root[1]/vol_A\n",
        "print(\"valor Vk bajo solución\")\n",
        "Vk(vol_k)\n",
        "\n",
        "PD_merton=1-pnorm((log(K_0/D)+(r+0.5*vol_k^2)*T)/(vol_k*sqrt(T)))\n",
        "\n",
        "print(\"Deuda estimada\")\n",
        "D\n",
        "print(\"Deuda sencilla\")\n",
        "D_0\n",
        "print(\"Vol estimada\")\n",
        "vol_k\n",
        "print(\"Vol semilla\")\n",
        "vol_A\n",
        "print(\"PD Merton\")\n",
        "PD_merton\n",
        "\n"
      ],
      "execution_count": null,
      "outputs": [
        {
          "output_type": "stream",
          "text": [
            "[1] \"vol_k\"\n"
          ],
          "name": "stdout"
        },
        {
          "output_type": "display_data",
          "data": {
            "text/plain": [
              "[1] 0.8978517"
            ],
            "text/latex": "0.897851736110419",
            "text/markdown": "0.897851736110419",
            "text/html": [
              "0.897851736110419"
            ]
          },
          "metadata": {
            "tags": []
          }
        },
        {
          "output_type": "stream",
          "text": [
            "[1] \"Ratio vol_k/vol_A\"\n"
          ],
          "name": "stdout"
        },
        {
          "output_type": "display_data",
          "data": {
            "text/plain": [
              "                WALMEX.MX.Close\n",
              "WALMEX.MX.Close 3.783249       "
            ],
            "text/latex": "A matrix: 1 × 1 of type dbl\n\\begin{tabular}{r|l}\n  & WALMEX.MX.Close\\\\\n\\hline\n\tWALMEX.MX.Close & 3.783249\\\\\n\\end{tabular}\n",
            "text/markdown": "\nA matrix: 1 × 1 of type dbl\n\n| <!--/--> | WALMEX.MX.Close |\n|---|---|\n| WALMEX.MX.Close | 3.783249 |\n\n",
            "text/html": [
              "<table>\n",
              "<caption>A matrix: 1 × 1 of type dbl</caption>\n",
              "<thead>\n",
              "\t<tr><th></th><th scope=col>WALMEX.MX.Close</th></tr>\n",
              "</thead>\n",
              "<tbody>\n",
              "\t<tr><th scope=row>WALMEX.MX.Close</th><td>3.783249</td></tr>\n",
              "</tbody>\n",
              "</table>\n"
            ]
          },
          "metadata": {
            "tags": []
          }
        },
        {
          "output_type": "stream",
          "text": [
            "[1] \"valor Vk bajo solución\"\n"
          ],
          "name": "stdout"
        },
        {
          "output_type": "display_data",
          "data": {
            "text/plain": [
              "           WALMEX.MX.Close\n",
              "2019-12-31    8.245071e-12"
            ]
          },
          "metadata": {
            "tags": []
          }
        },
        {
          "output_type": "stream",
          "text": [
            "[1] \"Deuda estimada\"\n"
          ],
          "name": "stdout"
        },
        {
          "output_type": "display_data",
          "data": {
            "text/plain": [
              "[1] 181027.5"
            ],
            "text/latex": "181027.502",
            "text/markdown": "181027.502",
            "text/html": [
              "181027.502"
            ]
          },
          "metadata": {
            "tags": []
          }
        },
        {
          "output_type": "stream",
          "text": [
            "[1] \"Deuda sencilla\"\n"
          ],
          "name": "stdout"
        },
        {
          "output_type": "display_data",
          "data": {
            "text/plain": [
              "[1] 181027.5"
            ],
            "text/latex": "181027.502",
            "text/markdown": "181027.502",
            "text/html": [
              "181027.502"
            ]
          },
          "metadata": {
            "tags": []
          }
        },
        {
          "output_type": "stream",
          "text": [
            "[1] \"Vol estimada\"\n"
          ],
          "name": "stdout"
        },
        {
          "output_type": "display_data",
          "data": {
            "text/plain": [
              "[1] 0.8978517"
            ],
            "text/latex": "0.897851736110419",
            "text/markdown": "0.897851736110419",
            "text/html": [
              "0.897851736110419"
            ]
          },
          "metadata": {
            "tags": []
          }
        },
        {
          "output_type": "stream",
          "text": [
            "[1] \"Vol semilla\"\n"
          ],
          "name": "stdout"
        },
        {
          "output_type": "display_data",
          "data": {
            "text/plain": [
              "                WALMEX.MX.Close\n",
              "WALMEX.MX.Close 0.237323       "
            ],
            "text/latex": "A matrix: 1 × 1 of type dbl\n\\begin{tabular}{r|l}\n  & WALMEX.MX.Close\\\\\n\\hline\n\tWALMEX.MX.Close & 0.237323\\\\\n\\end{tabular}\n",
            "text/markdown": "\nA matrix: 1 × 1 of type dbl\n\n| <!--/--> | WALMEX.MX.Close |\n|---|---|\n| WALMEX.MX.Close | 0.237323 |\n\n",
            "text/html": [
              "<table>\n",
              "<caption>A matrix: 1 × 1 of type dbl</caption>\n",
              "<thead>\n",
              "\t<tr><th></th><th scope=col>WALMEX.MX.Close</th></tr>\n",
              "</thead>\n",
              "<tbody>\n",
              "\t<tr><th scope=row>WALMEX.MX.Close</th><td>0.237323</td></tr>\n",
              "</tbody>\n",
              "</table>\n"
            ]
          },
          "metadata": {
            "tags": []
          }
        },
        {
          "output_type": "stream",
          "text": [
            "[1] \"PD Merton\"\n"
          ],
          "name": "stdout"
        },
        {
          "output_type": "display_data",
          "data": {
            "text/plain": [
              "[1] 0.3275962"
            ],
            "text/latex": "0.327596169440019",
            "text/markdown": "0.327596169440019",
            "text/html": [
              "0.327596169440019"
            ]
          },
          "metadata": {
            "tags": []
          }
        }
      ]
    },
    {
      "cell_type": "markdown",
      "metadata": {
        "id": "da5yHAtbkDLf"
      },
      "source": [
        "#KMV"
      ]
    },
    {
      "cell_type": "code",
      "metadata": {
        "id": "9wGFNTQukETk",
        "outputId": "64f5c28c-241b-4306-fae4-fc16b1a4c73f",
        "colab": {
          "base_uri": "https://localhost:8080/",
          "height": 533
        }
      },
      "source": [
        "print(\"A_0:\")\n",
        "A_0\n",
        "print(\"Valor de K_0\")\n",
        "K_0\n",
        "print(\"Valor de vol_A\")\n",
        "vol_A\n",
        "print(\"Valor de Deuda Actual\")\n",
        "D_0\n",
        "print(\"Tasa libre de riesgo\")\n",
        "r\n",
        "print(\"Temporalidad\")\n",
        "T\n",
        "\n",
        "\n",
        "#Función para estimar vol_k y D\n",
        "Gkmv = function(x) \n",
        "{\n",
        "  vol_k <- x[2]\n",
        "  K_0 <- x[1]\n",
        "  c(A_0-K_0*pnorm((log(K_0/D)+(r+0.5*vol_k^2)*T)/(vol_k*sqrt(T)))+D*exp(-r*T)*pnorm((log(K_0/D)+(r-0.5*vol_k^2)*T)/(vol_k*sqrt(T))),\n",
        "    A_0*vol_A-vol_k*K_0*pnorm((log(K_0/D)+(r+0.5*vol_k^2)*T)/(vol_k*sqrt(T))) )\n",
        "}\n",
        "\n",
        "D=D_0\n",
        "\n",
        "x=c(K_0,vol_A)\n",
        "\n",
        "ss=multiroot(Gkmv,x,positive = TRUE) #RESOLVER EL SISTEMA.\n",
        "\n",
        "K_e=ss$root[1]\n",
        "vol_k=ss$root[2]\n",
        "print(\"Cociente K_0/D_0\")\n",
        "K_e/D_0\n",
        "print(\"Cociente vol_K/vol_A\")\n",
        "ss$root[2]/vol_A\n",
        "print(\"Valor de solución en función:\")\n",
        "Gkmv(c(K_e,vol_k))\n",
        "\n",
        "DI=(K_e-D)/(vol_k*K_0)\n",
        "print(\"DI\")\n",
        "DI\n",
        "EDF=pnorm(-DI)\n",
        "print(\"EDF Normal\")\n",
        "EDF\n",
        " \n"
      ],
      "execution_count": null,
      "outputs": [
        {
          "output_type": "stream",
          "text": [
            "[1] \"A_0:\"\n"
          ],
          "name": "stdout"
        },
        {
          "output_type": "display_data",
          "data": {
            "text/plain": [
              "           WALMEX.MX.Close\n",
              "2019-12-31        946058.6"
            ]
          },
          "metadata": {
            "tags": []
          }
        },
        {
          "output_type": "stream",
          "text": [
            "[1] \"Valor de K_0\"\n"
          ],
          "name": "stdout"
        },
        {
          "output_type": "display_data",
          "data": {
            "text/plain": [
              "[1] 168144.8"
            ],
            "text/latex": "168144.767",
            "text/markdown": "168144.767",
            "text/html": [
              "168144.767"
            ]
          },
          "metadata": {
            "tags": []
          }
        },
        {
          "output_type": "stream",
          "text": [
            "[1] \"Valor de vol_A\"\n"
          ],
          "name": "stdout"
        },
        {
          "output_type": "display_data",
          "data": {
            "text/plain": [
              "                WALMEX.MX.Close\n",
              "WALMEX.MX.Close 0.237323       "
            ],
            "text/latex": "A matrix: 1 × 1 of type dbl\n\\begin{tabular}{r|l}\n  & WALMEX.MX.Close\\\\\n\\hline\n\tWALMEX.MX.Close & 0.237323\\\\\n\\end{tabular}\n",
            "text/markdown": "\nA matrix: 1 × 1 of type dbl\n\n| <!--/--> | WALMEX.MX.Close |\n|---|---|\n| WALMEX.MX.Close | 0.237323 |\n\n",
            "text/html": [
              "<table>\n",
              "<caption>A matrix: 1 × 1 of type dbl</caption>\n",
              "<thead>\n",
              "\t<tr><th></th><th scope=col>WALMEX.MX.Close</th></tr>\n",
              "</thead>\n",
              "<tbody>\n",
              "\t<tr><th scope=row>WALMEX.MX.Close</th><td>0.237323</td></tr>\n",
              "</tbody>\n",
              "</table>\n"
            ]
          },
          "metadata": {
            "tags": []
          }
        },
        {
          "output_type": "stream",
          "text": [
            "[1] \"Valor de Deuda Actual\"\n"
          ],
          "name": "stdout"
        },
        {
          "output_type": "display_data",
          "data": {
            "text/plain": [
              "[1] 181027.5"
            ],
            "text/latex": "181027.502",
            "text/markdown": "181027.502",
            "text/html": [
              "181027.502"
            ]
          },
          "metadata": {
            "tags": []
          }
        },
        {
          "output_type": "stream",
          "text": [
            "[1] \"Tasa libre de riesgo\"\n"
          ],
          "name": "stdout"
        },
        {
          "output_type": "display_data",
          "data": {
            "text/plain": [
              "[1] 0.0717"
            ],
            "text/latex": "0.0717",
            "text/markdown": "0.0717",
            "text/html": [
              "0.0717"
            ]
          },
          "metadata": {
            "tags": []
          }
        },
        {
          "output_type": "stream",
          "text": [
            "[1] \"Temporalidad\"\n"
          ],
          "name": "stdout"
        },
        {
          "output_type": "display_data",
          "data": {
            "text/plain": [
              "[1] 1"
            ],
            "text/latex": "1",
            "text/markdown": "1",
            "text/html": [
              "1"
            ]
          },
          "metadata": {
            "tags": []
          }
        },
        {
          "output_type": "stream",
          "text": [
            "[1] \"Cociente K_0/D_0\"\n"
          ],
          "name": "stdout"
        },
        {
          "output_type": "display_data",
          "data": {
            "text/plain": [
              "[1] 6.156859"
            ],
            "text/latex": "6.1568592733277",
            "text/markdown": "6.1568592733277",
            "text/html": [
              "6.1568592733277"
            ]
          },
          "metadata": {
            "tags": []
          }
        },
        {
          "output_type": "stream",
          "text": [
            "[1] \"Cociente vol_K/vol_A\"\n"
          ],
          "name": "stdout"
        },
        {
          "output_type": "display_data",
          "data": {
            "text/plain": [
              "                WALMEX.MX.Close\n",
              "WALMEX.MX.Close 0.8488174      "
            ],
            "text/latex": "A matrix: 1 × 1 of type dbl\n\\begin{tabular}{r|l}\n  & WALMEX.MX.Close\\\\\n\\hline\n\tWALMEX.MX.Close & 0.8488174\\\\\n\\end{tabular}\n",
            "text/markdown": "\nA matrix: 1 × 1 of type dbl\n\n| <!--/--> | WALMEX.MX.Close |\n|---|---|\n| WALMEX.MX.Close | 0.8488174 |\n\n",
            "text/html": [
              "<table>\n",
              "<caption>A matrix: 1 × 1 of type dbl</caption>\n",
              "<thead>\n",
              "\t<tr><th></th><th scope=col>WALMEX.MX.Close</th></tr>\n",
              "</thead>\n",
              "<tbody>\n",
              "\t<tr><th scope=row>WALMEX.MX.Close</th><td>0.8488174</td></tr>\n",
              "</tbody>\n",
              "</table>\n"
            ]
          },
          "metadata": {
            "tags": []
          }
        },
        {
          "output_type": "stream",
          "text": [
            "[1] \"Valor de solución en función:\"\n"
          ],
          "name": "stdout"
        },
        {
          "output_type": "display_data",
          "data": {
            "text/plain": [
              "           WALMEX.MX.Close\n",
              "2019-12-31               0\n",
              "2019-12-31               0"
            ]
          },
          "metadata": {
            "tags": []
          }
        },
        {
          "output_type": "stream",
          "text": [
            "[1] \"DI\"\n"
          ],
          "name": "stdout"
        },
        {
          "output_type": "display_data",
          "data": {
            "text/plain": [
              "[1] 27.56084"
            ],
            "text/latex": "27.5608409572914",
            "text/markdown": "27.5608409572914",
            "text/html": [
              "27.5608409572914"
            ]
          },
          "metadata": {
            "tags": []
          }
        },
        {
          "output_type": "stream",
          "text": [
            "[1] \"EDF Normal\"\n"
          ],
          "name": "stdout"
        },
        {
          "output_type": "display_data",
          "data": {
            "text/plain": [
              "[1] 1.640641e-167"
            ],
            "text/latex": "1.64064051476967e-167",
            "text/markdown": "1.64064051476967e-167",
            "text/html": [
              "1.64064051476967e-167"
            ]
          },
          "metadata": {
            "tags": []
          }
        }
      ]
    }
  ]
}